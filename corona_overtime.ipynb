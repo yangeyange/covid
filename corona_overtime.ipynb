{
 "cells": [
  {
   "cell_type": "code",
   "execution_count": 2,
   "metadata": {},
   "outputs": [],
   "source": [
    "import ipywidgets as widgets\n",
    "from IPython import display\n",
    "#from ipywidgets import Button, Layout\n",
    "#import tkinter as tk\n",
    "import numpy as np\n",
    "from matplotlib import pyplot as plt\n",
    "#from functools import partial\n",
    "import pandas as pd\n",
    "import xlrd\n",
    "from datetime import datetime"
   ]
  },
  {
   "cell_type": "code",
   "execution_count": 3,
   "metadata": {},
   "outputs": [
    {
     "data": {
      "text/html": [
       "<div>\n",
       "<style scoped>\n",
       "    .dataframe tbody tr th:only-of-type {\n",
       "        vertical-align: middle;\n",
       "    }\n",
       "\n",
       "    .dataframe tbody tr th {\n",
       "        vertical-align: top;\n",
       "    }\n",
       "\n",
       "    .dataframe thead th {\n",
       "        text-align: right;\n",
       "    }\n",
       "</style>\n",
       "<table border=\"1\" class=\"dataframe\">\n",
       "  <thead>\n",
       "    <tr style=\"text-align: right;\">\n",
       "      <th></th>\n",
       "      <th>date</th>\n",
       "      <th>county</th>\n",
       "      <th>state</th>\n",
       "      <th>fips</th>\n",
       "      <th>cases</th>\n",
       "      <th>deaths</th>\n",
       "    </tr>\n",
       "  </thead>\n",
       "  <tbody>\n",
       "    <tr>\n",
       "      <th>0</th>\n",
       "      <td>2020-01-21</td>\n",
       "      <td>Snohomish</td>\n",
       "      <td>Washington</td>\n",
       "      <td>53061.0</td>\n",
       "      <td>1</td>\n",
       "      <td>0</td>\n",
       "    </tr>\n",
       "    <tr>\n",
       "      <th>1</th>\n",
       "      <td>2020-01-22</td>\n",
       "      <td>Snohomish</td>\n",
       "      <td>Washington</td>\n",
       "      <td>53061.0</td>\n",
       "      <td>1</td>\n",
       "      <td>0</td>\n",
       "    </tr>\n",
       "    <tr>\n",
       "      <th>2</th>\n",
       "      <td>2020-01-23</td>\n",
       "      <td>Snohomish</td>\n",
       "      <td>Washington</td>\n",
       "      <td>53061.0</td>\n",
       "      <td>1</td>\n",
       "      <td>0</td>\n",
       "    </tr>\n",
       "    <tr>\n",
       "      <th>3</th>\n",
       "      <td>2020-01-24</td>\n",
       "      <td>Cook</td>\n",
       "      <td>Illinois</td>\n",
       "      <td>17031.0</td>\n",
       "      <td>1</td>\n",
       "      <td>0</td>\n",
       "    </tr>\n",
       "    <tr>\n",
       "      <th>4</th>\n",
       "      <td>2020-01-24</td>\n",
       "      <td>Snohomish</td>\n",
       "      <td>Washington</td>\n",
       "      <td>53061.0</td>\n",
       "      <td>1</td>\n",
       "      <td>0</td>\n",
       "    </tr>\n",
       "  </tbody>\n",
       "</table>\n",
       "</div>"
      ],
      "text/plain": [
       "         date     county       state     fips  cases  deaths\n",
       "0  2020-01-21  Snohomish  Washington  53061.0      1       0\n",
       "1  2020-01-22  Snohomish  Washington  53061.0      1       0\n",
       "2  2020-01-23  Snohomish  Washington  53061.0      1       0\n",
       "3  2020-01-24       Cook    Illinois  17031.0      1       0\n",
       "4  2020-01-24  Snohomish  Washington  53061.0      1       0"
      ]
     },
     "execution_count": 3,
     "metadata": {},
     "output_type": "execute_result"
    }
   ],
   "source": [
    "covid_df = pd.read_csv(r'/Users/eileenyang/JupyterPython/Corona/covid_may25.csv')\n",
    "covid_df.head()"
   ]
  },
  {
   "cell_type": "code",
   "execution_count": 5,
   "metadata": {},
   "outputs": [
    {
     "data": {
      "text/html": [
       "<div>\n",
       "<style scoped>\n",
       "    .dataframe tbody tr th:only-of-type {\n",
       "        vertical-align: middle;\n",
       "    }\n",
       "\n",
       "    .dataframe tbody tr th {\n",
       "        vertical-align: top;\n",
       "    }\n",
       "\n",
       "    .dataframe thead th {\n",
       "        text-align: right;\n",
       "    }\n",
       "</style>\n",
       "<table border=\"1\" class=\"dataframe\">\n",
       "  <thead>\n",
       "    <tr style=\"text-align: right;\">\n",
       "      <th></th>\n",
       "      <th>date</th>\n",
       "      <th>fips</th>\n",
       "      <th>cases</th>\n",
       "      <th>deaths</th>\n",
       "      <th>totcases</th>\n",
       "      <th>totdeaths</th>\n",
       "    </tr>\n",
       "  </thead>\n",
       "  <tbody>\n",
       "    <tr>\n",
       "      <th>0</th>\n",
       "      <td>2020-01-21</td>\n",
       "      <td>53061.0</td>\n",
       "      <td>1</td>\n",
       "      <td>0</td>\n",
       "      <td>1</td>\n",
       "      <td>0</td>\n",
       "    </tr>\n",
       "    <tr>\n",
       "      <th>1</th>\n",
       "      <td>2020-01-22</td>\n",
       "      <td>53061.0</td>\n",
       "      <td>1</td>\n",
       "      <td>0</td>\n",
       "      <td>1</td>\n",
       "      <td>0</td>\n",
       "    </tr>\n",
       "    <tr>\n",
       "      <th>2</th>\n",
       "      <td>2020-01-23</td>\n",
       "      <td>53061.0</td>\n",
       "      <td>1</td>\n",
       "      <td>0</td>\n",
       "      <td>1</td>\n",
       "      <td>0</td>\n",
       "    </tr>\n",
       "    <tr>\n",
       "      <th>3</th>\n",
       "      <td>2020-01-24</td>\n",
       "      <td>70092.0</td>\n",
       "      <td>2</td>\n",
       "      <td>0</td>\n",
       "      <td>2</td>\n",
       "      <td>0</td>\n",
       "    </tr>\n",
       "    <tr>\n",
       "      <th>4</th>\n",
       "      <td>2020-01-25</td>\n",
       "      <td>76151.0</td>\n",
       "      <td>3</td>\n",
       "      <td>0</td>\n",
       "      <td>3</td>\n",
       "      <td>0</td>\n",
       "    </tr>\n",
       "  </tbody>\n",
       "</table>\n",
       "</div>"
      ],
      "text/plain": [
       "        date     fips  cases  deaths  totcases  totdeaths\n",
       "0 2020-01-21  53061.0      1       0         1          0\n",
       "1 2020-01-22  53061.0      1       0         1          0\n",
       "2 2020-01-23  53061.0      1       0         1          0\n",
       "3 2020-01-24  70092.0      2       0         2          0\n",
       "4 2020-01-25  76151.0      3       0         3          0"
      ]
     },
     "execution_count": 5,
     "metadata": {},
     "output_type": "execute_result"
    }
   ],
   "source": [
    "covidus_df = covid_df.groupby(['date']).sum()\n",
    "\n",
    "covidus_df = covidus_df.reset_index()\n",
    "\n",
    "covidus_df['date'] =  pd.to_datetime(covidus_df['date'])\n",
    "\n",
    "covidus_df['totcases'] = covidus_df['cases']\n",
    "covidus_df['totdeaths'] = covidus_df['deaths']\n",
    "\n",
    "covidus_df.head()"
   ]
  },
  {
   "cell_type": "code",
   "execution_count": 7,
   "metadata": {},
   "outputs": [
    {
     "data": {
      "text/html": [
       "<div>\n",
       "<style scoped>\n",
       "    .dataframe tbody tr th:only-of-type {\n",
       "        vertical-align: middle;\n",
       "    }\n",
       "\n",
       "    .dataframe tbody tr th {\n",
       "        vertical-align: top;\n",
       "    }\n",
       "\n",
       "    .dataframe thead th {\n",
       "        text-align: right;\n",
       "    }\n",
       "</style>\n",
       "<table border=\"1\" class=\"dataframe\">\n",
       "  <thead>\n",
       "    <tr style=\"text-align: right;\">\n",
       "      <th></th>\n",
       "      <th>date</th>\n",
       "      <th>state</th>\n",
       "      <th>fips</th>\n",
       "      <th>cases</th>\n",
       "      <th>deaths</th>\n",
       "    </tr>\n",
       "  </thead>\n",
       "  <tbody>\n",
       "    <tr>\n",
       "      <th>0</th>\n",
       "      <td>2020-01-21</td>\n",
       "      <td>Washington</td>\n",
       "      <td>53061.0</td>\n",
       "      <td>1</td>\n",
       "      <td>0</td>\n",
       "    </tr>\n",
       "    <tr>\n",
       "      <th>1</th>\n",
       "      <td>2020-01-22</td>\n",
       "      <td>Washington</td>\n",
       "      <td>53061.0</td>\n",
       "      <td>1</td>\n",
       "      <td>0</td>\n",
       "    </tr>\n",
       "    <tr>\n",
       "      <th>2</th>\n",
       "      <td>2020-01-23</td>\n",
       "      <td>Washington</td>\n",
       "      <td>53061.0</td>\n",
       "      <td>1</td>\n",
       "      <td>0</td>\n",
       "    </tr>\n",
       "    <tr>\n",
       "      <th>3</th>\n",
       "      <td>2020-01-24</td>\n",
       "      <td>Illinois</td>\n",
       "      <td>17031.0</td>\n",
       "      <td>1</td>\n",
       "      <td>0</td>\n",
       "    </tr>\n",
       "    <tr>\n",
       "      <th>4</th>\n",
       "      <td>2020-01-24</td>\n",
       "      <td>Washington</td>\n",
       "      <td>53061.0</td>\n",
       "      <td>1</td>\n",
       "      <td>0</td>\n",
       "    </tr>\n",
       "  </tbody>\n",
       "</table>\n",
       "</div>"
      ],
      "text/plain": [
       "        date       state     fips  cases  deaths\n",
       "0 2020-01-21  Washington  53061.0      1       0\n",
       "1 2020-01-22  Washington  53061.0      1       0\n",
       "2 2020-01-23  Washington  53061.0      1       0\n",
       "3 2020-01-24    Illinois  17031.0      1       0\n",
       "4 2020-01-24  Washington  53061.0      1       0"
      ]
     },
     "execution_count": 7,
     "metadata": {},
     "output_type": "execute_result"
    }
   ],
   "source": [
    "covidstate_df = covid_df.groupby(['date','state']).sum()\n",
    "\n",
    "covidstate_df = covidstate_df.reset_index()\n",
    "\n",
    "covidstate_df['date'] =  pd.to_datetime(covidstate_df['date'])\n",
    "\n",
    "covidstate_df.head()"
   ]
  },
  {
   "cell_type": "code",
   "execution_count": 14,
   "metadata": {},
   "outputs": [
    {
     "data": {
      "text/plain": [
       "Text(0.5,1,'US COVID-19 Cases Over Time')"
      ]
     },
     "execution_count": 14,
     "metadata": {},
     "output_type": "execute_result"
    },
    {
     "data": {
      "image/png": "[encoded data removed]",
      "text/plain": [
       "<Figure size 432x288 with 1 Axes>"
      ]
     },
     "metadata": {
      "needs_background": "light"
     },
     "output_type": "display_data"
    }
   ],
   "source": [
    "#graphing total cases in the US\n",
    "covidus_df = covidus_df.sort_values('date', ascending=True)\n",
    "plt.plot(covidus_df['date'], covidus_df['cases'])\n",
    "plt.xticks(rotation='vertical')\n",
    "plt.title(\"US COVID-19 Cases Over Time\")\n"
   ]
  },
  {
   "cell_type": "code",
   "execution_count": 24,
   "metadata": {},
   "outputs": [
    {
     "data": {
      "image/png": "[encoded data removed]",
      "text/plain": [
       "<Figure size 432x288 with 1 Axes>"
      ]
     },
     "metadata": {
      "needs_background": "light"
     },
     "output_type": "display_data"
    }
   ],
   "source": [
    "def state_compare(state1, state2):\n",
    "    plt.plot(covidstate_df[covidstate_df['state']==state1]['date'],covidstate_df[covidstate_df['state']==state1]['cases'], label=state1)\n",
    "    plt.plot(covidstate_df[covidstate_df['state']==state2]['date'],covidstate_df[covidstate_df['state']==state2]['cases'], label=state2)\n",
    "    plt.xticks(rotation='vertical')\n",
    "    plt.title(\"COVID-19 Cases Over Time in \" +state1+ \" and \"+ state2)\n",
    "    plt.legend(loc=\"upper left\")\n",
    "state_compare(\"Washington\", \"North Carolina\")"
   ]
  },
  {
   "cell_type": "code",
   "execution_count": 25,
   "metadata": {},
   "outputs": [
    {
     "data": {
      "text/html": [
       "<div>\n",
       "<style scoped>\n",
       "    .dataframe tbody tr th:only-of-type {\n",
       "        vertical-align: middle;\n",
       "    }\n",
       "\n",
       "    .dataframe tbody tr th {\n",
       "        vertical-align: top;\n",
       "    }\n",
       "\n",
       "    .dataframe thead th {\n",
       "        text-align: right;\n",
       "    }\n",
       "</style>\n",
       "<table border=\"1\" class=\"dataframe\">\n",
       "  <thead>\n",
       "    <tr style=\"text-align: right;\">\n",
       "      <th></th>\n",
       "      <th>date</th>\n",
       "      <th>totcases</th>\n",
       "      <th>totdeaths</th>\n",
       "      <th>state</th>\n",
       "      <th>cases</th>\n",
       "      <th>deaths</th>\n",
       "    </tr>\n",
       "  </thead>\n",
       "  <tbody>\n",
       "    <tr>\n",
       "      <th>0</th>\n",
       "      <td>2020-01-21</td>\n",
       "      <td>1</td>\n",
       "      <td>0</td>\n",
       "      <td>Washington</td>\n",
       "      <td>1</td>\n",
       "      <td>0</td>\n",
       "    </tr>\n",
       "    <tr>\n",
       "      <th>1</th>\n",
       "      <td>2020-01-22</td>\n",
       "      <td>1</td>\n",
       "      <td>0</td>\n",
       "      <td>Washington</td>\n",
       "      <td>1</td>\n",
       "      <td>0</td>\n",
       "    </tr>\n",
       "    <tr>\n",
       "      <th>2</th>\n",
       "      <td>2020-01-23</td>\n",
       "      <td>1</td>\n",
       "      <td>0</td>\n",
       "      <td>Washington</td>\n",
       "      <td>1</td>\n",
       "      <td>0</td>\n",
       "    </tr>\n",
       "    <tr>\n",
       "      <th>3</th>\n",
       "      <td>2020-01-24</td>\n",
       "      <td>2</td>\n",
       "      <td>0</td>\n",
       "      <td>Illinois</td>\n",
       "      <td>1</td>\n",
       "      <td>0</td>\n",
       "    </tr>\n",
       "    <tr>\n",
       "      <th>4</th>\n",
       "      <td>2020-01-24</td>\n",
       "      <td>2</td>\n",
       "      <td>0</td>\n",
       "      <td>Washington</td>\n",
       "      <td>1</td>\n",
       "      <td>0</td>\n",
       "    </tr>\n",
       "  </tbody>\n",
       "</table>\n",
       "</div>"
      ],
      "text/plain": [
       "        date  totcases  totdeaths       state  cases  deaths\n",
       "0 2020-01-21         1          0  Washington      1       0\n",
       "1 2020-01-22         1          0  Washington      1       0\n",
       "2 2020-01-23         1          0  Washington      1       0\n",
       "3 2020-01-24         2          0    Illinois      1       0\n",
       "4 2020-01-24         2          0  Washington      1       0"
      ]
     },
     "execution_count": 25,
     "metadata": {},
     "output_type": "execute_result"
    }
   ],
   "source": [
    "covidus = covidus_df.drop(columns=['fips','cases','deaths'])\n",
    "#print(covidus)\n",
    "covidstate = covidstate_df.drop(columns=['fips'])\n",
    "#print(covidstate)\n",
    "\n",
    "covidall = covidus.merge(covidstate, on = ['date'])\n",
    "covidall.head()"
   ]
  },
  {
   "cell_type": "code",
   "execution_count": 28,
   "metadata": {},
   "outputs": [
    {
     "data": {
      "image/png": "[encoded data removed]",
      "text/plain": [
       "<Figure size 432x288 with 1 Axes>"
      ]
     },
     "metadata": {
      "needs_background": "light"
     },
     "output_type": "display_data"
    },
    {
     "data": {
      "image/png": "[encoded data removed]",
      "text/plain": [
       "<Figure size 432x288 with 1 Axes>"
      ]
     },
     "metadata": {
      "needs_background": "light"
     },
     "output_type": "display_data"
    },
    {
     "data": {
      "text/plain": [
       "<Figure size 432x288 with 0 Axes>"
      ]
     },
     "metadata": {},
     "output_type": "display_data"
    }
   ],
   "source": [
    "#a function to compare two states as well as the US total, if desired\n",
    "def state_compare2(state1, state2, us=None):\n",
    "\n",
    "   # if state2=None:\n",
    "   #     plt.plot(covidall['date'],covidall['totcases'])\n",
    "   #     plt.plot(covidall[covidall['state']==state1]['date'],covidall[covidall['state']==state1]['cases'])\n",
    "\n",
    "    if us is None:\n",
    "        plt.plot(covidall[covidall['state']==state1]['date'],covidall[covidall['state']==state1]['cases'], label=state1)\n",
    "        plt.plot(covidall[covidall['state']==state2]['date'],covidall[covidall['state']==state2]['cases'], label=state2)\n",
    "        plt.xticks(rotation='vertical')\n",
    "        plt.title(\"COVID-19 Cases Over Time in \" +state1+ \" and \"+ state2)\n",
    "        plt.legend(loc=\"upper left\")\n",
    "        plt.figure()\n",
    "\n",
    "    else:\n",
    "        plt.plot(covidall['date'],covidall['totcases'], label=\"US\")\n",
    "        plt.plot(covidall[covidall['state']==state1]['date'],covidall[covidall['state']==state1]['cases'], label=state1)\n",
    "        plt.plot(covidall[covidall['state']==state2]['date'],covidall[covidall['state']==state2]['cases'], label=state2)\n",
    "        plt.xticks(rotation='vertical')\n",
    "        plt.title(\"COVID-19 Cases Over Time in \" +state1+ \", \"+ state2+\" and the US\")\n",
    "        plt.legend(loc=\"upper left\")\n",
    "        plt.figure()\n",
    "    \n",
    "    \n",
    "#now we call the function\n",
    "state_compare2(\"New York\", \"Washington\", \"us\")\n",
    "state_compare2(\"New York\", \"Washington\")"
   ]
  },
  {
   "cell_type": "code",
   "execution_count": 42,
   "metadata": {},
   "outputs": [
    {
     "name": "stdout",
     "output_type": "stream",
     "text": [
      "['Alabama', 'Alaska', 'Arizona', 'Arkansas', 'California', 'Colorado', 'Connecticut', 'Delaware', 'District of Columbia', 'Florida', 'Georgia', 'Guam', 'Hawaii', 'Idaho', 'Illinois', 'Indiana', 'Iowa', 'Kansas', 'Kentucky', 'Louisiana', 'Maine', 'Maryland', 'Massachusetts', 'Michigan', 'Minnesota', 'Mississippi', 'Missouri', 'Montana', 'Nebraska', 'Nevada', 'New Hampshire', 'New Jersey', 'New Mexico', 'New York', 'North Carolina', 'North Dakota', 'Northern Mariana Islands', 'Ohio', 'Oklahoma', 'Oregon', 'Pennsylvania', 'Puerto Rico', 'Rhode Island', 'South Carolina', 'South Dakota', 'Tennessee', 'Texas', 'Utah', 'Vermont', 'Virgin Islands', 'Virginia', 'Washington', 'West Virginia', 'Wisconsin', 'Wyoming']\n"
     ]
    },
    {
     "ename": "NameError",
     "evalue": "name 'update' is not defined",
     "output_type": "error",
     "traceback": [
      "\u001b[0;31m---------------------------------------------------------------------------\u001b[0m",
      "\u001b[0;31mNameError\u001b[0m                                 Traceback (most recent call last)",
      "\u001b[0;32m<ipython-input-42-424a94efd36e>\u001b[0m in \u001b[0;36m<module>\u001b[0;34m\u001b[0m\n\u001b[1;32m     33\u001b[0m     \u001b[0mcontinuous_update\u001b[0m\u001b[0;34m=\u001b[0m\u001b[0;32mFalse\u001b[0m\u001b[0;34m\u001b[0m\u001b[0m\n\u001b[1;32m     34\u001b[0m )\n\u001b[0;32m---> 35\u001b[0;31m \u001b[0mint_slider\u001b[0m\u001b[0;34m.\u001b[0m\u001b[0mobserve\u001b[0m\u001b[0;34m(\u001b[0m\u001b[0mupdate\u001b[0m\u001b[0;34m,\u001b[0m \u001b[0;34m'value'\u001b[0m\u001b[0;34m)\u001b[0m\u001b[0;34m\u001b[0m\u001b[0m\n\u001b[0m\u001b[1;32m     36\u001b[0m \u001b[0mint_slider\u001b[0m\u001b[0;34m\u001b[0m\u001b[0m\n",
      "\u001b[0;31mNameError\u001b[0m: name 'update' is not defined"
     ]
    }
   ],
   "source": [
    "states = covidall['state'].unique()\n",
    "states = sorted(states)\n",
    "print(states)\n",
    "\n",
    "\n",
    "dropdown1 = widgets.Dropdown(\n",
    "    value='Alabama', \n",
    "    options=sorted(covidall['state'].unique()), \n",
    "    description='State 1'\n",
    ")\n",
    "dropdown2 = widgets.Dropdown(\n",
    "    value='Alabama', \n",
    "    options=sorted(covidall['state'].unique()), \n",
    "    description='State 2'\n",
    ")\n",
    "checkbox = widgets.Checkbox(\n",
    "    description='Include US Overall',\n",
    "    value=True\n",
    ")\n",
    "\n",
    "widgets.VBox([dropdown1,dropdown2,checkbox])\n",
    "\n",
    "def update(change):\n",
    "    \n",
    "\n",
    "#def show_change(change):\n",
    " #   display(change)\n",
    "\n",
    "    \n",
    "    \n"
   ]
  },
  {
   "cell_type": "code",
   "execution_count": 45,
   "metadata": {},
   "outputs": [
    {
     "data": {
      "application/vnd.jupyter.widget-view+json": {
       "model_id": "d0ebda2f5679427ca0b96e705902d723",
       "version_major": 2,
       "version_minor": 0
      },
      "text/plain": [
       "interactive(children=(IntSlider(value=10, description='a', max=30, min=-10), IntSlider(value=20, description='…"
      ]
     },
     "metadata": {},
     "output_type": "display_data"
    }
   ],
   "source": [
    "from IPython.display import display\n",
    "from ipywidgets import interact, interactive, fixed, interact_manual\n",
    "\n",
    "def f(a, b):\n",
    "    display(a + b)\n",
    "    return a+b\n",
    "\n",
    "w = interactive(f, a=10, b=20)\n",
    "display(w)\n"
   ]
  },
  {
   "cell_type": "code",
   "execution_count": 49,
   "metadata": {},
   "outputs": [
    {
     "data": {
      "application/vnd.jupyter.widget-view+json": {
       "model_id": "0ebf50c147284257b155a711c8bba230",
       "version_major": 2,
       "version_minor": 0
      },
      "text/plain": [
       "interactive(children=(Dropdown(description='state1', options=('Alabama', 'Alaska', 'Arizona', 'Arkansas', 'Cal…"
      ]
     },
     "metadata": {},
     "output_type": "display_data"
    }
   ],
   "source": [
    "def state_compare(state1, state2):\n",
    "    plt.plot(covidstate_df[covidstate_df['state']==state1]['date'],covidstate_df[covidstate_df['state']==state1]['cases'], label=state1)\n",
    "    plt.plot(covidstate_df[covidstate_df['state']==state2]['date'],covidstate_df[covidstate_df['state']==state2]['cases'], label=state2)\n",
    "    plt.xticks(rotation='vertical')\n",
    "    plt.title(\"COVID-19 Cases Over Time in \" +state1+ \" and \"+ state2)\n",
    "    plt.legend(loc=\"upper left\")\n",
    "    \n",
    "w=interactive(state_compare, state1=sorted(covidall['state'].unique()), state2=sorted(covidall['state'].unique()))\n",
    "display(w)"
   ]
  },
  {
   "cell_type": "code",
   "execution_count": 60,
   "metadata": {},
   "outputs": [
    {
     "data": {
      "application/vnd.jupyter.widget-view+json": {
       "model_id": "ae108d46988546b89b336a5f5bd13fc9",
       "version_major": 2,
       "version_minor": 0
      },
      "text/plain": [
       "interactive(children=(Dropdown(description='State1', options=('Alabama', 'Alaska', 'Arizona', 'Arkansas', 'Cal…"
      ]
     },
     "metadata": {},
     "output_type": "display_data"
    }
   ],
   "source": [
    "def state_compare2(State1, State2, US=True):\n",
    "\n",
    "   # if state2=None:\n",
    "   #     plt.plot(covidall['date'],covidall['totcases'])\n",
    "   #     plt.plot(covidall[covidall['state']==state1]['date'],covidall[covidall['state']==state1]['cases'])\n",
    "\n",
    "    if US is False:\n",
    "        plt.plot(covidall[covidall['state']==State1]['date'],covidall[covidall['state']==State1]['cases'], label=State1)\n",
    "        plt.plot(covidall[covidall['state']==State2]['date'],covidall[covidall['state']==State2]['cases'], label=State2)\n",
    "        plt.xticks(rotation='vertical')\n",
    "        plt.title(\"COVID-19 Cases Over Time in \" +State1+ \" and \"+ State2)\n",
    "        plt.legend(loc=\"upper left\")\n",
    "        plt.figure()\n",
    "\n",
    "    else:\n",
    "        plt.plot(covidall['date'],covidall['totcases'], label=\"US\")\n",
    "        plt.plot(covidall[covidall['state']==State1]['date'],covidall[covidall['state']==State1]['cases'], label=State1)\n",
    "        plt.plot(covidall[covidall['state']==State2]['date'],covidall[covidall['state']==State2]['cases'], label=State2)\n",
    "        plt.xticks(rotation='vertical')\n",
    "        plt.title(\"COVID-19 Cases Over Time in \" +State1+ \", \"+ State2+\" and the US\")\n",
    "        plt.legend(loc=\"upper left\")\n",
    "        plt.figure()\n",
    "\n",
    "w2=interactive(state_compare2, State1=sorted(covidall['state'].unique()), State2=sorted(covidall['state'].unique()), US=True)\n",
    "display(w2)"
   ]
  },
  {
   "cell_type": "code",
   "execution_count": null,
   "metadata": {},
   "outputs": [],
   "source": []
  }
 ],
 "metadata": {
  "kernelspec": {
   "display_name": "Python 3",
   "language": "python",
   "name": "python3"
  },
  "language_info": {
   "codemirror_mode": {
    "name": "ipython",
    "version": 3
   },
   "file_extension": ".py",
   "mimetype": "text/x-python",
   "name": "python",
   "nbconvert_exporter": "python",
   "pygments_lexer": "ipython3",
   "version": "3.6.5"
  }
 },
 "nbformat": 4,
 "nbformat_minor": 4
}
