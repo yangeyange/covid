{
 "cells": [
  {
   "cell_type": "code",
   "execution_count": 6,
   "metadata": {},
   "outputs": [],
   "source": [
    "#Cleaned up Corona County Comparisons"
   ]
  },
  {
   "cell_type": "code",
   "execution_count": 7,
   "metadata": {},
   "outputs": [],
   "source": [
    "import ipywidgets as widgets\n",
    "from IPython import display\n",
    "\n",
    "import numpy as np\n",
    "from matplotlib import pyplot as plt\n",
    "\n",
    "import pandas as pd\n",
    "import xlrd\n",
    "\n",
    "from datetime import datetime"
   ]
  },
  {
   "cell_type": "code",
   "execution_count": 8,
   "metadata": {},
   "outputs": [],
   "source": [
    "\n",
    "countydem_df = pd.read_excel(r'/Users/eileenyang/JupyterPython/Corona/uscountydemographics.xlsx')\n",
    "covid_df = pd.read_csv(r'/Users/eileenyang/JupyterPython/Corona/covid_may25.csv')\n"
   ]
  },
  {
   "cell_type": "code",
   "execution_count": 9,
   "metadata": {},
   "outputs": [],
   "source": [
    "countydem = countydem_df[['State','County','TotalPop','Poverty','Income','Unemployment']]\n",
    "countydem2 = countydem.groupby(['State','County']).sum()\n",
    "countydem2 = countydem2.reset_index()\n",
    "\n",
    "c1=countydem2[['State','County','TotalPop']]\n",
    "countydem3=countydem.groupby(['State','County']).mean()\n",
    "countydem3=countydem3.reset_index()\n",
    "c2=countydem3.drop(columns=['TotalPop'])\n",
    "\n",
    "county = c1.merge(c2, on = ['State','County'])\n",
    "county['County'] = county['County'].str.replace(r' County', '')\n"
   ]
  },
  {
   "cell_type": "code",
   "execution_count": 10,
   "metadata": {},
   "outputs": [],
   "source": [
    "covid_df['date'] =  pd.to_datetime(covid_df['date'])\n",
    "x = covid_df['date'].max()\n",
    "\n",
    "covid_current = covid_df[covid_df['date']==x]\n",
    "covid_current = covid_current.rename(columns={'state':'State','county':'County'})\n",
    "\n",
    "covidcounty = covid_current.merge(county, on=['State','County'])\n"
   ]
  },
  {
   "cell_type": "code",
   "execution_count": 11,
   "metadata": {},
   "outputs": [],
   "source": [
    "povstd = np.std(covidcounty['Poverty'])\n",
    "\n",
    "incomestd = np.std(covidcounty['Income'])\n",
    "\n",
    "unemploystd = np.std(covidcounty['Unemployment'])"
   ]
  },
  {
   "cell_type": "code",
   "execution_count": 12,
   "metadata": {},
   "outputs": [],
   "source": [
    "idk = county.groupby(['State']).agg(list)\n",
    "idk = idk[['County']]\n",
    "idk = idk.reset_index()\n",
    "\n",
    "idkt = idk.T\n",
    "\n",
    "new_header = idkt.iloc[0] #grab the first row for the header\n",
    "idkt = idkt[1:] #take the data less the header row\n",
    "idkt.columns = new_header\n",
    "\n",
    "idkt_dict = idkt.to_dict('list')\n",
    "\n",
    "for key, value in idkt_dict.items():\n",
    "    # do something with value\n",
    "    idkt_dict[key] = value[0]"
   ]
  },
  {
   "cell_type": "code",
   "execution_count": 13,
   "metadata": {},
   "outputs": [
    {
     "data": {
      "application/vnd.jupyter.widget-view+json": {
       "model_id": "dff961e6478c4e76a49692e4c81198e6",
       "version_major": 2,
       "version_minor": 0
      },
      "text/plain": [
       "interactive(children=(Dropdown(description='State', options=('Alabama', 'Alaska', 'Arizona', 'Arkansas', 'Cali…"
      ]
     },
     "metadata": {},
     "output_type": "display_data"
    }
   ],
   "source": [
    "#interactive widget to run the function! aka the final product\n",
    "\n",
    "from IPython.display import display\n",
    "from ipywidgets import interact, interactive, fixed, interact_manual\n",
    "\n",
    "\n",
    "def countycompare_pov(State, County):\n",
    "        cc.options = idkt_dict[State]\n",
    "\n",
    "        cond1 = covidcounty['County']==County\n",
    "        cond2 = covidcounty['State']==State\n",
    "        county_choose = covidcounty[(cond1) & (cond2)]       \n",
    "        county_choose = county_choose.reset_index()\n",
    "\n",
    "        pov = county_choose.at[0,'Poverty']\n",
    "        pop = county_choose.at[0,'TotalPop']\n",
    "\n",
    "        minpov = pov-povstd\n",
    "        maxpov = pov+povstd\n",
    "\n",
    "        minpop = 0.5*pop\n",
    "        maxpop = 1.5*pop\n",
    "\n",
    "        simcountiespov_cond1 = covidcounty['Poverty'].between(minpov,maxpov)\n",
    "        simcountiespov_cond2 = covidcounty['TotalPop'].between(minpop,maxpop)\n",
    "        simcounties_pov = covidcounty[(simcountiespov_cond1) & (simcountiespov_cond2)]\n",
    "\n",
    "        simcounties_pov['dummy'] = 1\n",
    "        county_choose['dummy'] = 1\n",
    "\n",
    "        fig=plt.figure()\n",
    "\n",
    "        bp = simcounties_pov.boxplot(column=['cases'], by=['dummy'], vert=False, grid=False)\n",
    "\n",
    "        plt.xlabel(\"\")\n",
    "        plt.ylabel(\"\")\n",
    "        plt.title(\"COVID-19 Cases in \" + County+\" County, \"+ State + \" compared to Counties with Similar Poverty Rate\")\n",
    "        plt.suptitle(\"\")\n",
    "\n",
    "        ax = plt.gca()\n",
    "        ax.axes.yaxis.set_ticks([])\n",
    "\n",
    "        for i in [1]:\n",
    "            plt.plot(county_choose['cases'], i, marker=\"x\")\n",
    "            plt.figure()\n",
    "\n",
    "        \n",
    "ss = widgets.Dropdown(options=idkt_dict.keys())\n",
    "init = ss.value\n",
    "cc = widgets.Dropdown(options=idkt_dict[init])\n",
    "\n",
    "w4=interactive(countycompare_pov, State=ss, County=cc)\n",
    "display(w4)"
   ]
  },
  {
   "cell_type": "code",
   "execution_count": null,
   "metadata": {},
   "outputs": [],
   "source": []
  }
 ],
 "metadata": {
  "kernelspec": {
   "display_name": "Python 3",
   "language": "python",
   "name": "python3"
  },
  "language_info": {
   "codemirror_mode": {
    "name": "ipython",
    "version": 3
   },
   "file_extension": ".py",
   "mimetype": "text/x-python",
   "name": "python",
   "nbconvert_exporter": "python",
   "pygments_lexer": "ipython3",
   "version": "3.6.5"
  }
 },
 "nbformat": 4,
 "nbformat_minor": 4
}
